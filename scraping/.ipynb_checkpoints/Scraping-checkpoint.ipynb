{
 "cells": [
  {
   "cell_type": "markdown",
   "metadata": {
    "deletable": true,
    "editable": true
   },
   "source": [
    "# Scraping the web using python\n",
    "\n",
    "## What is scraping?\n",
    "\n",
    "<img src=\"files/scrape.png\">\n",
    "\n",
    "## When should I scrape the web?\n",
    "\n",
    "* When website does not have API.\n",
    "* When you want to anonimise data collection.\n",
    "* When the APIs are to restrictive. (Note, this is sometimes illegal.)\n",
    "\n",
    "## Popular python webscraping libraries.\n",
    "* [Scrapy](https://scrapy.org/)\n",
    "* [BeautifulSoup](https://www.crummy.com/software/BeautifulSoup/bs4/doc/)\n",
    "* requests\n",
    "* [Selenium](http://selenium-python.readthedocs.io/)\n",
    "\n",
    "### Also, always remember, the docs are your greatest friend."
   ]
  },
  {
   "cell_type": "markdown",
   "metadata": {
    "deletable": true,
    "editable": true
   },
   "source": [
    "# The code"
   ]
  },
  {
   "cell_type": "code",
   "execution_count": 125,
   "metadata": {
    "collapsed": false,
    "deletable": true,
    "editable": true
   },
   "outputs": [],
   "source": [
    "import requests    # For fetching webpages\n",
    "import re          # Regular Expression\n",
    "from bs4 import BeautifulSoup\n",
    "import random\n",
    "from IPython.display import HTML\n",
    "import webbrowser\n",
    "import os"
   ]
  },
  {
   "cell_type": "code",
   "execution_count": 113,
   "metadata": {
    "collapsed": false,
    "deletable": true,
    "editable": true
   },
   "outputs": [],
   "source": [
    "# Request the page\n",
    "page = requests.get('http://www.thehindu.com/sci-tech/science/')\n",
    "\n",
    "# Create a BeautifulSoup object\n",
    "soup = BeautifulSoup(page.text, 'html.parser')"
   ]
  },
  {
   "cell_type": "markdown",
   "metadata": {
    "deletable": true,
    "editable": true
   },
   "source": [
    "## The structure of a webpage\n",
    "\n",
    "### The tags and attrbutes\n",
    "\n",
    "In the following snippet, 'a' is a tag and href is an attribute.\n",
    "```html\n",
    " <a href=\"https://www.w3schools.com\">This is a link</a> \n",
    "```\n",
    "Similarly, looking at the page source of what we want to scrape, we see this.\n",
    "\n",
    "<img src=\"files/source.png\">\n",
    "\n",
    "The idea is to try and find patterns we can exploit."
   ]
  },
  {
   "cell_type": "code",
   "execution_count": 114,
   "metadata": {
    "collapsed": false,
    "deletable": true,
    "editable": true
   },
   "outputs": [],
   "source": [
    "links = []   # A list of links.\n",
    "\n",
    "for link in soup.find_all('a'):\n",
    "    url = link.get('href')\n",
    "    if url != None and 'science/' in url and url[-3:]=='ece':\n",
    "        links.append(url)"
   ]
  },
  {
   "cell_type": "code",
   "execution_count": 1,
   "metadata": {
    "collapsed": false,
    "deletable": true,
    "editable": true
   },
   "outputs": [
    {
     "ename": "NameError",
     "evalue": "name 'links' is not defined",
     "output_type": "error",
     "traceback": [
      "\u001b[0;31m---------------------------------------------------------------------------\u001b[0m",
      "\u001b[0;31mNameError\u001b[0m                                 Traceback (most recent call last)",
      "\u001b[0;32m<ipython-input-1-1d2201bf9ca9>\u001b[0m in \u001b[0;36m<module>\u001b[0;34m()\u001b[0m\n\u001b[0;32m----> 1\u001b[0;31m \u001b[0mlen\u001b[0m\u001b[0;34m(\u001b[0m\u001b[0mlinks\u001b[0m\u001b[0;34m)\u001b[0m  \u001b[0;31m# See how many links we were able to scrape.\u001b[0m\u001b[0;34m\u001b[0m\u001b[0m\n\u001b[0m",
      "\u001b[0;31mNameError\u001b[0m: name 'links' is not defined"
     ]
    }
   ],
   "source": [
    "len(links)  # See how many links we were able to scrape."
   ]
  },
  {
   "cell_type": "code",
   "execution_count": 127,
   "metadata": {
    "collapsed": false,
    "deletable": true,
    "editable": true
   },
   "outputs": [
    {
     "data": {
      "text/html": [
       "<h1>Lizards have been running on two legs for 110 million years: research</h1><br><div id=\"content-body-14269002-22784173\">\n",
       "<p>Mexico's Jesus lizard got its name from an unusual ability to run over water on its hind legs, its body semi-erect and its front limbs dangling in the air. The spiny-tailed iguana and bearded dragon, too, are among lizards that can switch in an instant from four- to two-footed locomotion when running — a skill thought to have evolved due to the need for speed.</p><p>On Thursday, scientists said bipedal lizard locomotion is nothing new. The fossilised footprints of a tiny iguana ancestor discovered in South Korea have revealed that lizards were already running around on their hind limbs 110 million years ago, when the dinosaurs ruled Earth.</p><p>Yuong-Nam Lee, a professor of vertebrate palaeontology at Seoul National University, said he discovered 29 tracks, about two centimetres long and 1.5 cm wide, in a mudstone slab while out fossil-hunting in 2004.</p><p>\"At the time, I thought they were just small animal tracks of little importance because I was more interested in pterosaur (an extinct, winged lizard) tracks at the time,\" he told AFP. \"These lizard tracks were collected and stored in the museum until I checked the slab again two years ago. With new eyes, I examined these tracks again and found out they have very typical pedal morphologies of modern lizards.\" The prints turned out to be the oldest-known lizard tracks in the world, Lee said. The creature that made them was likely an iguana ancestor about 6.8 cm long, minus tail.</p><h2>Need for speed</h2><p>\"Footprint fossils provide direct evidence of (an) animal's behaviour,\" Lee said. \"Some modern lizards can run bipedally, but we did not know when they developed that ability until this discovery.\"</p><p>Bipedality usually occurs when a lizard with longer hind than front limbs accelerate to running speed. The study authors found more hind foot than front foot tracks in the slab, consistent with a two-legged running gait, as was the pattern and dispersal of the prints.</p><p>Their analysis allowed the team to conclude that the tracks were left \"by lizards running bipedally,\" the authors wrote in the journal <em>Scientific Reports</em>. This suggested \"that bipedality was possible early in lizard evolution.\"</p>\n",
       "</div>"
      ],
      "text/plain": [
       "<IPython.core.display.HTML object>"
      ]
     },
     "execution_count": 127,
     "metadata": {},
     "output_type": "execute_result"
    }
   ],
   "source": [
    "page = requests.get(random.choice(links))\n",
    "soup = BeautifulSoup(page.text, 'html.parser')\n",
    "title = soup.find(name='title').text[1:-13]\n",
    "html = '<h1>'+title+'</h1><br>'+str(soup.find(id=re.compile(\"content-body\")))\n",
    "HTML(str(html))"
   ]
  },
  {
   "cell_type": "code",
   "execution_count": 136,
   "metadata": {
    "collapsed": true,
    "deletable": true,
    "editable": true
   },
   "outputs": [],
   "source": [
    "html = ''\n",
    "for link in links[0:30:6]:\n",
    "    page = requests.get(link)\n",
    "    soup = BeautifulSoup(page.text, 'html.parser')\n",
    "    title = soup.find(name='title').text[1:-13]\n",
    "    if 'uiz' in title:\n",
    "        continue\n",
    "    html += '<h1>'+title+'</h1><br>'+str(soup.find(id=re.compile(\"content-body\")))\n",
    "    html += '<hr>'"
   ]
  },
  {
   "cell_type": "code",
   "execution_count": 137,
   "metadata": {
    "collapsed": false,
    "deletable": true,
    "editable": true
   },
   "outputs": [
    {
     "data": {
      "text/plain": [
       "True"
      ]
     },
     "execution_count": 137,
     "metadata": {},
     "output_type": "execute_result"
    }
   ],
   "source": [
    "path = os.path.abspath('temp.html')\n",
    "url = 'file://' + path\n",
    "\n",
    "with open(path, 'w') as f:\n",
    "    f.write(html)\n",
    "webbrowser.open(url)"
   ]
  },
  {
   "cell_type": "code",
   "execution_count": 138,
   "metadata": {
    "collapsed": false,
    "deletable": true,
    "editable": true
   },
   "outputs": [
    {
     "data": {
      "text/html": [
       "<h1>Asteroid ‘time capsules’ help decode how life started on Earth</h1><br><div id=\"content-body-14269002-22797836\">\n",
       "<p>Asteroids play the role of time capsules showing what molecules originally existed in our solar system, and may help explain how life started on Earth, a study suggests.</p><p>Finding complex molecules in asteroids provides the strongest evidence that such compounds were present on the Earth before life formed, said Nicholas Hud from Georgia Institute of Technology in the US.</p><p>Knowing what molecules were present helps establish the initial conditions that led to the formation of amino acids and related compounds that, in turn, came together to form peptides, small protein-like molecules that may have kicked off life on our planet. .</p><p>“We can look to the asteroids to help us understand what chemistry is possible in the universe,” said Mr. Hud.</p><h2><strong>Studying meteorites as well</strong></h2><p>“It’s important for us to study materials from asteroids and meteorites, the smaller versions of asteroids that fall to Earth, to test the validity of our models for how molecules in them could have helped give rise to life.</p><p>“We also need to catalogue the molecules from asteroids and meteorites because there might be compounds there that we had not even considered important for starting life,” Mr. Hud said.</p><p>“NASA scientists have been analysing compounds found in asteroids and meteorites for decades, and their work provides a solid understanding for what might have been present when the Earth itself was formed,” he said.</p><p>“Detection of a molecule in an asteroid or meteorite is about the only evidence everyone will accept for that molecule being prebiotic. It is something we can really lean on,” he said.</p><h2><strong>Molecules and life</strong></h2><p>Mr. Hud believes there are many possible ways that the molecules of life could have formed. Life could have gotten started with molecules that are less sophisticated and less efficient than what we see today. Like life itself, these molecules could have evolved over time.</p><p>“What we find is that these compounds can form molecules that look a lot like modern peptides, except in the backbone that is holding the units together,” he said.</p><p>“The overall structure can be very similar and would be easier to make, though it does not have the ability to fold into as complex structures as modern proteins. .</p><p>“There is a tradeoff between the simplicity of forming these molecules and how close these molecules are to those found in contemporary life,” said Mr. Hud.</p>\n",
       "</div><hr><h1>Lizards have been running on two legs for 110 million years: research</h1><br><div id=\"content-body-14269002-22784173\">\n",
       "<p>Mexico's Jesus lizard got its name from an unusual ability to run over water on its hind legs, its body semi-erect and its front limbs dangling in the air. The spiny-tailed iguana and bearded dragon, too, are among lizards that can switch in an instant from four- to two-footed locomotion when running — a skill thought to have evolved due to the need for speed.</p><p>On Thursday, scientists said bipedal lizard locomotion is nothing new. The fossilised footprints of a tiny iguana ancestor discovered in South Korea have revealed that lizards were already running around on their hind limbs 110 million years ago, when the dinosaurs ruled Earth.</p><p>Yuong-Nam Lee, a professor of vertebrate palaeontology at Seoul National University, said he discovered 29 tracks, about two centimetres long and 1.5 cm wide, in a mudstone slab while out fossil-hunting in 2004.</p><p>\"At the time, I thought they were just small animal tracks of little importance because I was more interested in pterosaur (an extinct, winged lizard) tracks at the time,\" he told AFP. \"These lizard tracks were collected and stored in the museum until I checked the slab again two years ago. With new eyes, I examined these tracks again and found out they have very typical pedal morphologies of modern lizards.\" The prints turned out to be the oldest-known lizard tracks in the world, Lee said. The creature that made them was likely an iguana ancestor about 6.8 cm long, minus tail.</p><h2>Need for speed</h2><p>\"Footprint fossils provide direct evidence of (an) animal's behaviour,\" Lee said. \"Some modern lizards can run bipedally, but we did not know when they developed that ability until this discovery.\"</p><p>Bipedality usually occurs when a lizard with longer hind than front limbs accelerate to running speed. The study authors found more hind foot than front foot tracks in the slab, consistent with a two-legged running gait, as was the pattern and dispersal of the prints.</p><p>Their analysis allowed the team to conclude that the tracks were left \"by lizards running bipedally,\" the authors wrote in the journal <em>Scientific Reports</em>. This suggested \"that bipedality was possible early in lizard evolution.\"</p>\n",
       "</div><hr><h1>Head shape indicated social status in ancient Peru</h1><br><div id=\"content-body-14269002-22807292\">\n",
       "<p> Head binding, a practice that involved deliberately reshaping the heads of infants, differed according to social status in ancient Peru, according a new report in academic journal <em>Current Anthropology</em>.</p><p>The report, which is based on the examination of 211 skulls from two different societies that lived in the Colca Valley in Peru, also used archaeological and carbon dating data that showed that this practice became increasingly prevalent between 1150 and 1450 AD.</p><p>Head binding was done either by covering the heads of infants with cloth or binding them between two pieces of wood.</p><p>The two ethnic groups studied were the Collaguas and the Cavanas.</p><p>“The Collaguas settled the upper reaches of the valley; they spoke Aymara, raised alpacas for wool, and made their heads long and narrow,” Matthew C. Velasco from the Department of Anthropology at Cornell University wrote in the report. “In contrast, the Quechua-speaking Cavanas cultivated maize in the fertile lower valley and compressed the heads of their newborns to make them squat and wide.”</p><p>The also had two different burial grounds — one for the Collaguas and one for the Cavanas. The report says that high-ranking officials were buried in special structures built on cliffs, while the common people were buried in caves. The elite burial sites showed skulls which were long and elongated compared to the ones in the caves, suggesting that higher ranked individuals had longer heads.</p><p>Carbon and nitrogen isotope analysis of bones revealed that females with elongated heads ate better nutritional foods and had a lower risk for violence. This suggests that inequality prevailed even among females in the Colca valley.</p><p>“Further insights into the relationship among head shaping, social power, and regional mobility await the results of additional....analyses,” says the report.</p>\n",
       "</div><hr><h1>Physicists gather to analyse solar cycles</h1><br><div id=\"content-body-14269002-22800667\">\n",
       "<p>“One of the oldest modern observatories was first set up in Madras by William Petrie. Known as the Madras Observatory, it was what gave birth to the Kodaikanal Solar Observatory (KSO) which has been collecting images of the sun for over a hundred years,” said professor Siraj Hasan, former director of Indian Institute of Astrophysics, Bengaluru.</p><p>He was speaking at the inaugural function of the symposium of the International Astronomical Union in Jaipur on Monday. There are other observatories, such as the ones at Mount Wilson Observatory and Kitt Peak, where similar long-term data sets have been collected, and the theme of the symposium is to work towards eliminating discrepancies across various such sets. The symposium was inaugurated by Ajit Khembavi, chairperson of the governing council of Indian Institute of astrophysics (IIAP).</p><h2><p>Cross-calibration</p></h2><p>Referring to an earlier conference, Dipankar Banerjee of IIAP, the host institute, said, “We are in the early days of this cross-calibration of various data sets. The Kodaikanal image set is special because it not only has long term data, but there are three different types of images that overlap with other data sets.”</p><p>The digitisation of the images from KSO has been happening since 2006. The raw data has been available for the general public. Now the team, including members of IIAP, have processed it and made it searchable at three levels.</p><p>Professor Hasan further said that two major initiatives were on the horizon. He was referring to the Aditya-L1 solar physics space mission and the National Large Solar Telescope project at Merak in Jammu and Kashmir. The symposium witnessed the gathering together of nearly 250 participants from across the world. </p><p>A satellite meeting organised by CESSI, Kolkata, on February 18, commemorated the contributions made by astrophysicist Arnab Rai Choudhuri.</p>\n",
       "</div><hr>"
      ],
      "text/plain": [
       "<IPython.core.display.HTML object>"
      ]
     },
     "execution_count": 138,
     "metadata": {},
     "output_type": "execute_result"
    }
   ],
   "source": [
    "HTML(html)"
   ]
  },
  {
   "cell_type": "code",
   "execution_count": null,
   "metadata": {
    "collapsed": true,
    "deletable": true,
    "editable": true
   },
   "outputs": [],
   "source": []
  }
 ],
 "metadata": {
  "kernelspec": {
   "display_name": "Python 3",
   "language": "python",
   "name": "python3"
  },
  "language_info": {
   "codemirror_mode": {
    "name": "ipython",
    "version": 3
   },
   "file_extension": ".py",
   "mimetype": "text/x-python",
   "name": "python",
   "nbconvert_exporter": "python",
   "pygments_lexer": "ipython3",
   "version": "3.5.2"
  }
 },
 "nbformat": 4,
 "nbformat_minor": 2
}
