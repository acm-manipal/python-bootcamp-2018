{
 "cells": [
  {
   "cell_type": "markdown",
   "metadata": {},
   "source": [
    "# Sending emails via Python -- SMTPlib "
   ]
  },
  {
   "cell_type": "code",
   "execution_count": null,
   "metadata": {
    "collapsed": true
   },
   "outputs": [],
   "source": [
    "#Importing the necessary library"
   ]
  },
  {
   "cell_type": "code",
   "execution_count": null,
   "metadata": {
    "collapsed": false
   },
   "outputs": [],
   "source": [
    "import smtplib\n",
    "from email.MIMEMultipart import MIMEMultipart\n",
    "from email.MIMEText import MIMEText \n",
    "from email.MIMEBase import MIMEBase\n",
    "from email import encoders"
   ]
  },
  {
   "cell_type": "code",
   "execution_count": null,
   "metadata": {
    "collapsed": false
   },
   "outputs": [],
   "source": [
    "\"\"\" Creating an object for manipulating the methods of the library \n",
    "    Method used -- .SMTP(  ,  )\n",
    "    Parameters expected - hostname, the site where you want to login to \n",
    "                          port name, 587 (if using TLS ; 465 if using SSL)\"\"\"\n",
    "    "
   ]
  },
  {
   "cell_type": "code",
   "execution_count": null,
   "metadata": {
    "collapsed": true
   },
   "outputs": [],
   "source": [
    "sobj = smtplib.SMTP(host='smtp.gmail.com',port = 587)"
   ]
  },
  {
   "cell_type": "code",
   "execution_count": null,
   "metadata": {
    "collapsed": true
   },
   "outputs": [],
   "source": [
    "#ssl is the default ____ in smtplib, however if tls is being used, the program needs to be notified seperately  "
   ]
  },
  {
   "cell_type": "code",
   "execution_count": null,
   "metadata": {
    "collapsed": false
   },
   "outputs": [],
   "source": [
    "sobj.starttls()"
   ]
  },
  {
   "cell_type": "code",
   "execution_count": null,
   "metadata": {
    "collapsed": true
   },
   "outputs": [],
   "source": [
    "#OPTIONAL -> We check whether the connection has been established successully, done using ehlo() method \n",
    "#uncomment the next line to see it work \n",
    "#sobj.ehlo()"
   ]
  },
  {
   "cell_type": "code",
   "execution_count": null,
   "metadata": {
    "collapsed": false
   },
   "outputs": [],
   "source": [
    "\"\"\" The next step is to log in. \n",
    "The username can be give directly, however passwords should not be hardcoded in a program \n",
    "instead, provide the password, on input prompt whilst setting it to a variable. \n",
    "Then login using it. \"\"\""
   ]
  },
  {
   "cell_type": "code",
   "execution_count": null,
   "metadata": {
    "collapsed": false
   },
   "outputs": [],
   "source": [
    "password = raw_input(\" Enter Password - \")\n",
    "username = ''\n",
    "sobj.login(username,password)"
   ]
  },
  {
   "cell_type": "code",
   "execution_count": null,
   "metadata": {
    "collapsed": false
   },
   "outputs": [],
   "source": [
    "\"\"\"Note - 1. The email service provider might block logins from low level applications\n",
    "          This has to disabled in the account settings,(procedure depends on your email provider,no coding involved)\n",
    "          For google - \"allow less secure apps\"\n",
    "          2. Also in case of 2-page verification, the password to be entered here, has to be an application specific\n",
    "          password, again to be set using the email provider. \n",
    "        In addition,after logging in from the browser go to the following page \n",
    "        http://www.google.com/accounts/DisplayUnlockCaptcha \n",
    "        and click continue. Account access will be enabled. \"\"\"\n"
   ]
  },
  {
   "cell_type": "code",
   "execution_count": null,
   "metadata": {
    "collapsed": true
   },
   "outputs": [],
   "source": [
    "#Specify the sender and reciever address, recievers can be a list as well "
   ]
  },
  {
   "cell_type": "code",
   "execution_count": null,
   "metadata": {
    "collapsed": true
   },
   "outputs": [],
   "source": [
    "fromaddr = \"\"\n",
    "toaddr = \"\""
   ]
  },
  {
   "cell_type": "code",
   "execution_count": null,
   "metadata": {
    "collapsed": true
   },
   "outputs": [],
   "source": [
    "#Creating an object for the message contents "
   ]
  },
  {
   "cell_type": "code",
   "execution_count": null,
   "metadata": {
    "collapsed": true
   },
   "outputs": [],
   "source": [
    "msg = MIMEMultipart()"
   ]
  },
  {
   "cell_type": "code",
   "execution_count": null,
   "metadata": {
    "collapsed": true
   },
   "outputs": [],
   "source": [
    "# Enter the message contents "
   ]
  },
  {
   "cell_type": "code",
   "execution_count": null,
   "metadata": {
    "collapsed": true
   },
   "outputs": [],
   "source": [
    "msg['From'] = fromaddr\n",
    "msg['To'] = toaddr\n",
    "msg['Subject'] = \"\"\n",
    "body = \" \""
   ]
  },
  {
   "cell_type": "code",
   "execution_count": null,
   "metadata": {
    "collapsed": true
   },
   "outputs": [],
   "source": [
    "#Treating the body as a text object, we attach the body to the rest of the msg "
   ]
  },
  {
   "cell_type": "code",
   "execution_count": null,
   "metadata": {
    "collapsed": true
   },
   "outputs": [],
   "source": [
    "msg.attach(MIMEText(body,'plain'))"
   ]
  },
  {
   "cell_type": "code",
   "execution_count": null,
   "metadata": {
    "collapsed": true
   },
   "outputs": [],
   "source": [
    "#For sending attachments, give the name of the file to be attached [***OPTIONAL***, uncomment the lines to make it work]\n",
    "#filename = ''\n",
    "#opening the attachment, to do so the path to the file needs to be specified.\n",
    "#attachment = open('path',\"rb\")\n",
    "##opening in reading and binary mode.\n",
    "#part = MIMEBase('application','octet-stream')\n",
    "#part.set_payload((attachment).read())\n",
    "#encoders.encode_base64(part)\n",
    "#part.add_header('Content Disposition',\"attachment; filename = %s\" %filename)\n",
    "#msg.attach(part)"
   ]
  },
  {
   "cell_type": "code",
   "execution_count": null,
   "metadata": {
    "collapsed": true
   },
   "outputs": [],
   "source": [
    "#Converting the message to a string, so that it can be sent. And then sending the mail "
   ]
  },
  {
   "cell_type": "code",
   "execution_count": null,
   "metadata": {
    "collapsed": true
   },
   "outputs": [],
   "source": [
    "text = msg.as_string()\n",
    "sobj.sendmail(fromaaddr,toaddr,text)"
   ]
  },
  {
   "cell_type": "code",
   "execution_count": null,
   "metadata": {
    "collapsed": true
   },
   "outputs": [],
   "source": [
    "#Closing the connection established safely "
   ]
  },
  {
   "cell_type": "code",
   "execution_count": null,
   "metadata": {
    "collapsed": true
   },
   "outputs": [],
   "source": [
    "sobj.quit()"
   ]
  }
 ],
 "metadata": {
  "kernelspec": {
   "display_name": "Python 2",
   "language": "python",
   "name": "python2"
  },
  "language_info": {
   "codemirror_mode": {
    "name": "ipython",
    "version": 2
   },
   "file_extension": ".py",
   "mimetype": "text/x-python",
   "name": "python",
   "nbconvert_exporter": "python",
   "pygments_lexer": "ipython2",
   "version": "2.7.12"
  }
 },
 "nbformat": 4,
 "nbformat_minor": 1
}
