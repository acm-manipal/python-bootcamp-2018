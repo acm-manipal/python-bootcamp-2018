{
 "cells": [
  {
   "cell_type": "markdown",
   "metadata": {},
   "source": [
    "# Sending attachments\n",
    "\n",
    "- Sending attachments requires the **email** library.\n",
    "- The library itself can not be used to send emails.\n",
    "- It is used for managing email messages."
   ]
  },
  {
   "cell_type": "code",
   "execution_count": null,
   "metadata": {
    "collapsed": true
   },
   "outputs": [],
   "source": [
    "#import all required libraries\n",
    "import smtplib\n",
    "from email.mime.multipart import MIMEMultipart  #MIME stands for Multipurpose Internet Mail Extension\n",
    "from email.mime.text import MIMEText\n",
    "from email.mime.base import MIMEBase\n",
    "from email import encoders"
   ]
  },
  {
   "cell_type": "code",
   "execution_count": null,
   "metadata": {
    "collapsed": true
   },
   "outputs": [],
   "source": [
    "#Get attachment file\n",
    "filename = '' #filename with extension. eg 'pic.jpg'\n",
    "file_path = 'path/to/filename'\n",
    "file = open(file_path, 'rb')"
   ]
  },
  {
   "cell_type": "code",
   "execution_count": null,
   "metadata": {
    "collapsed": true
   },
   "outputs": [],
   "source": [
    "sender = ''\n",
    "password = ''\n",
    "receiver = ''\n",
    "\n",
    "server = smtplib.SMTP('smtp.gmail.com', 587)\n",
    "server.starttls()\n",
    "server.login(sender, password)"
   ]
  },
  {
   "cell_type": "code",
   "execution_count": null,
   "metadata": {
    "collapsed": true
   },
   "outputs": [],
   "source": [
    "#From, to, subject and body\n",
    "message = MIMEMultipart()\n",
    "message['From'] = sender\n",
    "message['To'] = receiver\n",
    "message['Subject'] = 'Subject of email'"
   ]
  },
  {
   "cell_type": "code",
   "execution_count": null,
   "metadata": {},
   "outputs": [],
   "source": [
    "body = 'Text to be included in body of email'\n",
    "message.attach(MIMEText(body, 'plain'))"
   ]
  },
  {
   "cell_type": "code",
   "execution_count": null,
   "metadata": {
    "collapsed": true
   },
   "outputs": [],
   "source": [
    "#Attachment\n",
    "msgObj = MIMEBase('application', 'octet-stream')\n",
    "msgObj.set_payload(file.read())\n",
    "encoders.encode_base64(msgObj)\n",
    "msgObj.add_header('Content-Disposition', 'attachment; filename= %s' % filename)\n",
    "message.attach(msgObj)"
   ]
  },
  {
   "cell_type": "code",
   "execution_count": null,
   "metadata": {
    "collapsed": true
   },
   "outputs": [],
   "source": [
    "text = message.as_string()\n",
    "server.sendmail(sender, receiver, text)\n",
    "server.quit()"
   ]
  },
  {
   "cell_type": "markdown",
   "metadata": {},
   "source": [
    "### Resources\n",
    "\n",
    "- [**smtplib** Documentation](https://docs.python.org/3/library/email.html)\n",
    "- [**email** Documentation](https://docs.python.org/3/library/email.html)\n"
   ]
  }
 ],
 "metadata": {
  "kernelspec": {
   "display_name": "Python 3",
   "language": "python",
   "name": "python3"
  },
  "language_info": {
   "codemirror_mode": {
    "name": "ipython",
    "version": 3
   },
   "file_extension": ".py",
   "mimetype": "text/x-python",
   "name": "python",
   "nbconvert_exporter": "python",
   "pygments_lexer": "ipython3",
   "version": "3.6.4"
  }
 },
 "nbformat": 4,
 "nbformat_minor": 2
}
