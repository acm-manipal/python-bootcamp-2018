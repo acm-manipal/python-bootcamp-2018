{
 "cells": [
  {
   "cell_type": "markdown",
   "metadata": {
    "collapsed": true
   },
   "source": [
    "# Sending Emails using Python\n",
    "\n",
    "- Emails can be sent with python using the smtplib library.\n",
    "- SMTP stands for Simple Mail Transfer Protocol.\n",
    "- The smtplib module defines an SMTP client session object that can be used to send mail to any Internet machine with an SMTP or ESMTP listener daemon."
   ]
  },
  {
   "cell_type": "code",
   "execution_count": null,
   "metadata": {
    "collapsed": true
   },
   "outputs": [],
   "source": [
    "import smtplib "
   ]
  },
  {
   "cell_type": "code",
   "execution_count": null,
   "metadata": {
    "collapsed": true
   },
   "outputs": [],
   "source": [
    "#Initialise variables for username and password as well as receiver\n",
    "username = ''\n",
    "password = '' #password can also be taken via user input for better security.\n",
    "receiver = ''"
   ]
  },
  {
   "cell_type": "code",
   "execution_count": null,
   "metadata": {
    "collapsed": true
   },
   "outputs": [],
   "source": [
    "#Create an smtp object and login to server\n",
    "s = smtplib.SMTP(host='smtp.gmail.com', port=587) #host and port settings for popular email services can be googled.\n",
    "s.starttls() #puts the smtp connection in TLS(Transport Layer Security Mode). Encrypts all future smtp commands. \n",
    "s.login(username, password)"
   ]
  },
  {
   "cell_type": "code",
   "execution_count": null,
   "metadata": {
    "collapsed": true
   },
   "outputs": [],
   "source": [
    "#Create layout of the email\n",
    "subject = 'Testing'\n",
    "body = '\\n Hello World.'\n",
    "\n",
    "message = 'To:'+ receiver + '\\n' + \\\n",
    "          'From: ' + username + '\\n' + \\\n",
    "          'Subject: ' + subject + '\\n' + \\\n",
    "           body"
   ]
  },
  {
   "cell_type": "code",
   "execution_count": null,
   "metadata": {
    "collapsed": true
   },
   "outputs": [],
   "source": [
    "#Send email\n",
    "s.sendmail(username, receiver, message)\n",
    "\n",
    "s.close()"
   ]
  },
  {
   "cell_type": "markdown",
   "metadata": {},
   "source": [
    "### Resources\n",
    "\n",
    "- [**smtplib** Documentation](https://docs.python.org/3/library/email.html)"
   ]
  }
 ],
 "metadata": {
  "kernelspec": {
   "display_name": "Python 3",
   "language": "python",
   "name": "python3"
  },
  "language_info": {
   "codemirror_mode": {
    "name": "ipython",
    "version": 3
   },
   "file_extension": ".py",
   "mimetype": "text/x-python",
   "name": "python",
   "nbconvert_exporter": "python",
   "pygments_lexer": "ipython3",
   "version": "3.6.4"
  }
 },
 "nbformat": 4,
 "nbformat_minor": 2
}
