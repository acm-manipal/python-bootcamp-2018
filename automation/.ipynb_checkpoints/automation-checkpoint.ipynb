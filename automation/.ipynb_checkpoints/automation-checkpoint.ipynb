{
 "cells": [
  {
   "cell_type": "markdown",
   "metadata": {},
   "source": [
    "# Web Automation\n",
    "\n",
    "## What is web automation?\n",
    "\n",
    "As the name suggests, web automation is simply the process by which tasks such as form filling, scraping, data extraction and website testing are automated.\n",
    "*Selenium* is a library for Python that is used for browser automation. We shall be using *Selenium* to automate simply tasks.\n",
    "To begin, let's first import the required libraries."
   ]
  },
  {
   "cell_type": "code",
   "execution_count": 9,
   "metadata": {},
   "outputs": [],
   "source": [
    "from selenium import webdriver\n",
    "from selenium.webdriver.common.keys import Keys"
   ]
  },
  {
   "cell_type": "markdown",
   "metadata": {},
   "source": [
    "The *webdriver* is one of the most important aspects of *Selenium*. It is used to create an instance of the browser driver which enables *Selenium* to communicate to the web browser.\n",
    "Let's now create an instance of the web driver and use it to access a website."
   ]
  },
  {
   "cell_type": "code",
   "execution_count": 10,
   "metadata": {},
   "outputs": [],
   "source": [
    "driver = webdriver.Chrome()\n",
    "driver.get(\"https://www.google.com\")"
   ]
  },
  {
   "cell_type": "markdown",
   "metadata": {},
   "source": [
    "After executing the above cell, you should now see a new window of Chrome open up with the Google home page.\n",
    "Let's breakdown what exactly is happening.\n",
    "The ```webdriver.Chrome()``` method is used to create an instance of the Chrome browser. *Selenium* also supports FireFox, IE and Remote. You can decide to use any browser, provided you have downloaded the respective browser drivers.\n",
    "Next, the ```driver.get()``` method is used to navigate to the respective URL of your choice. In this case, the browser navigates to the Google home page.\n",
    "Now, let's try querying Google."
   ]
  },
  {
   "cell_type": "code",
   "execution_count": 11,
   "metadata": {},
   "outputs": [],
   "source": [
    "element = driver.find_element_by_name(\"q\")\n",
    "element.clear()\n",
    "element.send_keys(\"Hello World!\" + Keys.RETURN)"
   ]
  },
  {
   "cell_type": "markdown",
   "metadata": {},
   "source": [
    "After executing the above cell, you should see a new page open showing the search results of *Hello, World!*. Let's breakdown the above code snippet.\n",
    "A webpage consists of a number of elements which have their own specific use. In our case, we need to locate the element that is takes input of a search query. Locating specifics elements and their attributes on a web page might seem overwhelming in the beginning, but it is actually easy to do. Let's see how this is done.\n",
    "\n",
    "* ### First open the webpage that you wish to access with *Selenium*.   \n",
    "\n",
    "![](.\\pic1.png)   \n",
    "\n",
    "* ### Locate the element of interest. Right click and open Inspect. You should see the following:   \n",
    "\n",
    "![](.\\pic2.png)   \n",
    "Observe the region highlighted. Here you can get important information about your element.\n",
    "After you've located your element, you can perform other operations as required.\n",
    "the ```element.clear()``` method is used to remove any existing data present in the text field. ```element.send_keys()``` is used to send text to the element. In our case, we send the query *Hello World!*. Here, ```Keys.RETURN``` is used to append the carriage return character to our input text. Think of this as the equivalent to entering text and hitting the *Enter* button.   \n",
    "That's it, you've have succesfully performed a simple web automation task!\n",
    "\n",
    "## Experiment for yourself!\n",
    "Now, you can experiment with performing more complicated opertions. For example, try navigating to Facebook to automate your login operation. This is similar to what we've done before. Only difference is that you now have to create two different elements.\n",
    "\n",
    "## Useful resources\n",
    "* [Selenium documentation!](http://selenium-python.readthedocs.io/)\n",
    "* [Locating elements!](http://selenium-python.readthedocs.io/locating-elements.html)\n",
    "* [Python documentation!](https://docs.python.org/3/)"
   ]
  },
  {
   "cell_type": "code",
   "execution_count": null,
   "metadata": {},
   "outputs": [],
   "source": []
  }
 ],
 "metadata": {
  "kernelspec": {
   "display_name": "Python 3",
   "language": "python",
   "name": "python3"
  },
  "language_info": {
   "codemirror_mode": {
    "name": "ipython",
    "version": 3
   },
   "file_extension": ".py",
   "mimetype": "text/x-python",
   "name": "python",
   "nbconvert_exporter": "python",
   "pygments_lexer": "ipython3",
   "version": "3.6.4"
  }
 },
 "nbformat": 4,
 "nbformat_minor": 2
}
